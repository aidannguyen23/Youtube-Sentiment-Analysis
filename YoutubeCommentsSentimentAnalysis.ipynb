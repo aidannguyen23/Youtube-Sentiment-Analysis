{
  "nbformat": 4,
  "nbformat_minor": 0,
  "metadata": {
    "colab": {
      "provenance": [],
      "authorship_tag": "ABX9TyMODW9r7DzYoQP3P6MjDayj",
      "include_colab_link": true
    },
    "kernelspec": {
      "name": "python3",
      "display_name": "Python 3"
    },
    "language_info": {
      "name": "python"
    }
  },
  "cells": [
    {
      "cell_type": "markdown",
      "metadata": {
        "id": "view-in-github",
        "colab_type": "text"
      },
      "source": [
        "<a href=\"https://colab.research.google.com/github/aidannguyen23/Youtube-Sentiment-Analysis/blob/main/YoutubeCommentsSentimentAnalysis.ipynb\" target=\"_parent\"><img src=\"https://colab.research.google.com/assets/colab-badge.svg\" alt=\"Open In Colab\"/></a>"
      ]
    },
    {
      "cell_type": "code",
      "source": [
        "import torch\n",
        "import transformers\n",
        "from transformers import AutoTokenizer, AutoModelForSequenceClassification\n",
        "\n",
        "import pandas as pd\n",
        "import numpy as np"
      ],
      "metadata": {
        "id": "fh1H9qGfLvQR"
      },
      "execution_count": null,
      "outputs": []
    },
    {
      "cell_type": "markdown",
      "source": [
        "## Output as Pandas Dataframe"
      ],
      "metadata": {
        "id": "lJKHmFhnJSBy"
      }
    },
    {
      "cell_type": "code",
      "source": [
        "import googleapiclient.discovery\n",
        "import pandas as pd\n",
        "\n",
        "def get_youtube_comments_df(video_id, max_results=100):\n",
        "    api_service_name = \"youtube\"\n",
        "    api_version = \"v3\"\n",
        "    DEVELOPER_KEY = \"**zaSyCAfQHTruZdm5wqpyQRuAn_Hs3LsugNMYw\"\n",
        "\n",
        "    youtube = googleapiclient.discovery.build(\n",
        "        api_service_name, api_version, developerKey=DEVELOPER_KEY)\n",
        "\n",
        "    request = youtube.commentThreads().list(\n",
        "        part=\"snippet\",\n",
        "        videoId=video_id,\n",
        "        maxResults=max_results\n",
        "    )\n",
        "    response = request.execute()\n",
        "\n",
        "    comments_text = []\n",
        "\n",
        "    for item in response['items']:\n",
        "        text_display = item['snippet']['topLevelComment']['snippet']['textDisplay']\n",
        "        comments_text.append(text_display)\n",
        "\n",
        "    df = pd.DataFrame(comments_text, columns=['text'])\n",
        "    return df\n",
        "\n",
        "# Example usage:\n",
        "video_id = \"_9yhDpVUK3Q\"\n",
        "df = get_youtube_comments_df(video_id, max_results=100)\n",
        "print(df.head())\n"
      ],
      "metadata": {
        "colab": {
          "base_uri": "https://localhost:8080/"
        },
        "id": "Z2agOZ-WJUqc",
        "outputId": "b7c62ab4-03e7-4ba6-be3f-aacb95aeccda"
      },
      "execution_count": null,
      "outputs": [
        {
          "output_type": "stream",
          "name": "stdout",
          "text": [
            "                                                text\n",
            "0  Let&#39;s gather &#39;round the campfire, and ...\n",
            "1                Squidward dropped some bars in this\n",
            "2  It’s better in Hebrew <a href=\"https://youtu.b...\n",
            "3  I used to play this video for my late cousin/b...\n",
            "4  Patrick looks like he was about to have a stro...\n"
          ]
        }
      ]
    },
    {
      "cell_type": "markdown",
      "source": [
        "## 2. Clean the comment section"
      ],
      "metadata": {
        "id": "Z07nrCxsQV3G"
      }
    },
    {
      "cell_type": "code",
      "source": [
        "import re\n",
        "import nltk\n",
        "from nltk.corpus import stopwords\n",
        "from nltk.stem import WordNetLemmatizer\n",
        "\n",
        "# Assuming df contains the DataFrame with the 'text' column\n",
        "\n",
        "# Convert 'text' column to lowercase\n",
        "df['text'] = df['text'].str.lower()\n",
        "\n",
        "# Remove special characters, punctuation, and URLs\n",
        "df['text'] = df['text'].apply(lambda x: re.sub(r'http\\S+', '', x))  # Remove URLs\n",
        "df['text'] = df['text'].apply(lambda x: re.sub(r'[^\\w\\s]', '', x))  # Remove special characters\n",
        "\n",
        "# Display the cleaned 'text' column\n",
        "print(df['text'])\n"
      ],
      "metadata": {
        "id": "xxwdI2TLQbMd"
      },
      "execution_count": null,
      "outputs": []
    },
    {
      "cell_type": "markdown",
      "source": [
        "## 3. Instantiate Model"
      ],
      "metadata": {
        "id": "zaIBhuF_NPaq"
      }
    },
    {
      "cell_type": "code",
      "source": [
        "tokenizer = AutoTokenizer.from_pretrained('lxyuan/distilbert-base-multilingual-cased-sentiments-student')\n",
        "model = AutoModelForSequenceClassification.from_pretrained('lxyuan/distilbert-base-multilingual-cased-sentiments-student')"
      ],
      "metadata": {
        "id": "NUFMthK8MolY"
      },
      "execution_count": null,
      "outputs": []
    },
    {
      "cell_type": "markdown",
      "source": [
        "## 4. Load Comments into DataFrame and Score"
      ],
      "metadata": {
        "id": "omT50kETNTjS"
      }
    },
    {
      "cell_type": "code",
      "source": [
        "def sentiment_score(comment):\n",
        "  tokens = tokenizer.encode(comment, return_tensors='pt')\n",
        "  result = model(tokens)\n",
        "  return int(torch.argmax(result.logits))"
      ],
      "metadata": {
        "id": "p1G_FxQ3NcNa"
      },
      "execution_count": null,
      "outputs": []
    },
    {
      "cell_type": "code",
      "source": [
        "df['sentiment'] = df['text'].apply(lambda x: sentiment_score(x[:512]))"
      ],
      "metadata": {
        "id": "4ZaY8QPLTCdD"
      },
      "execution_count": null,
      "outputs": []
    },
    {
      "source": [
        "from matplotlib import pyplot as plt\n",
        "\n",
        "# Count the frequency of values in the 'sentiment' column\n",
        "frequency = df['sentiment'].value_counts().to_dict()\n",
        "\n",
        "# Map sentiment values to labels\n",
        "sentiment_labels = {2: 'negative', 1: 'neutral', 0: 'positive'}\n",
        "\n",
        "# Map sentiment values to labels in the frequency dictionary\n",
        "frequency_labeled = {sentiment_labels[key]: value for key, value in frequency.items()}\n",
        "\n",
        "# Data for the pie chart\n",
        "labels = list(frequency_labeled.keys())\n",
        "sizes = list(frequency_labeled.values())\n",
        "\n",
        "# Creating the pie chart\n",
        "plt.pie(sizes, labels=labels, autopct='%1.1f%%', colors=['green', '#8B0000', 'gray'], startangle=140)\n",
        "plt.axis('equal')  # Equal aspect ratio ensures that pie is drawn as a circle.\n",
        "plt.title('Spongebob - Campfire Song Sentiment')\n",
        "plt.show()\n"
      ],
      "cell_type": "code",
      "metadata": {
        "colab": {
          "base_uri": "https://localhost:8080/",
          "height": 433
        },
        "id": "XV0D9VtOTgu4",
        "outputId": "155dec93-afd7-4979-c513-936be8913440"
      },
      "execution_count": null,
      "outputs": [
        {
          "output_type": "display_data",
          "data": {
            "text/plain": [
              "<Figure size 640x480 with 1 Axes>"
            ],
            "image/png": "[encoded data removed]"
          },
          "metadata": {}
        }
      ]
    }
  ]
}